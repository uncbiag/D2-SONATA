{
 "cells": [
  {
   "cell_type": "code",
   "execution_count": 1,
   "metadata": {},
   "outputs": [],
   "source": [
    "import os\n",
    "import numpy as np\n",
    "\n",
    "import itk\n",
    "from itk import TubeTK as ttk\n",
    "import SimpleITK as sitk\n",
    "\n",
    "from itkwidgets import view"
   ]
  },
  {
   "cell_type": "code",
   "execution_count": 2,
   "metadata": {},
   "outputs": [],
   "source": [
    "main_fld = '/media/peirong/PR/IXI/IXI-Vessel'\n",
    "pre_fld = os.path.join(main_fld, 'level-0')\n",
    "cur_fld = os.path.join(main_fld, 'level-1')\n",
    "\n",
    "main_fld = '/home/peirong/Desktop'\n",
    "\n",
    "def cropping(img, tol = 0, crop_range_lst = None, save_path = None):\n",
    "    \n",
    "    '''\n",
    "    img: itk readable image\n",
    "    crop_range_lst: [[x0, y0, z0], [x1, y1, z1]]\n",
    "    '''\n",
    "\n",
    "    orig_nda = sitk.GetArrayFromImage(img)\n",
    "    \n",
    "    if crop_range_lst is None:\n",
    "        \n",
    "        if len(orig_nda.shape) > 3: # 4D data: last axis (t=0) as time dimension\n",
    "            nda = orig_nda[..., 0]\n",
    "        else:\n",
    "            nda = np.copy(orig_nda)\n",
    "\n",
    "        # Mask of non-black pixels (assuming image has a single channel).\n",
    "        mask = nda > tol\n",
    "\n",
    "        # Coordinates of non-black pixels.\n",
    "        coords = np.argwhere(mask)\n",
    "\n",
    "        # Bounding box of non-black pixels.\n",
    "        #x0, y0, z0 = coords.min(axis=0) + 1   # Abandom 1 layer\n",
    "        #x1, y1, z1 = coords.max(axis=0) - 10  # Abandom 11 layers\n",
    "        x0, y0, z0 = coords.min(axis=0)\n",
    "        x1, y1, z1 = coords.max(axis=0) + 1   # slices are exclusive at the top\n",
    "\n",
    "        # Check the the bounding box #\n",
    "        print('    Cropping Slice  [%d, %d)' % (x0, x1))\n",
    "        print('    Cropping Row    [%d, %d)' % (y0, y1))\n",
    "        print('    Cropping Column [%d, %d)' % (z0, z1))\n",
    "        \n",
    "    else:\n",
    "        \n",
    "        [[x0, y0, z0], [x1, y1, z1]] = crop_range_lst\n",
    "\n",
    "    cropped_nda = orig_nda[x0 : x1, y0 : y1, z0 : z1]\n",
    "    cropped_img = sitk.GetImageFromArray(cropped_nda, isVector = len(orig_nda.shape) > 3)\n",
    "    #new_origin = [img.GetOrigin()[0] + img.GetSpacing()[0] * z0,\\\n",
    "      #  img.GetOrigin()[1] + img.GetSpacing()[1] * y0,\\\n",
    "        #    img.GetOrigin()[2] + img.GetSpacing()[2] * x0]  # numpy reverse to sitk\n",
    "    #cropped_img.SetOrigin(new_origin)\n",
    "    cropped_img.SetOrigin(img.GetOrigin())\n",
    "    cropped_img.SetSpacing(img.GetSpacing())\n",
    "    cropped_img.SetDirection(img.GetDirection())\n",
    "    \n",
    "    if save_path:\n",
    "        sitk.WriteImage(cropped_img, save_path)\n",
    "    return cropped_img, [[x0, y0, z0], [x1, y1, z1]] #, new_origin\n",
    "        \n",
    "        \n",
    "    \n"
   ]
  },
  {
   "cell_type": "code",
   "execution_count": null,
   "metadata": {},
   "outputs": [],
   "source": []
  },
  {
   "cell_type": "code",
   "execution_count": 26,
   "metadata": {},
   "outputs": [
    {
     "name": "stdout",
     "output_type": "stream",
     "text": [
      "    Cropping Slice  [0, 80)\n",
      "    Cropping Row    [16, 181)\n",
      "    Cropping Column [49, 192)\n",
      "/home/peirong/Desktop/MRA-Iso_cropped.mha\n",
      "/home/peirong/Desktop/MRA-Brain_cropped.mha\n",
      "/home/peirong/Desktop/T1_2MRA-Iso_cropped.mha\n",
      "/home/peirong/Desktop/T2_2MRA-Iso_cropped.mha\n",
      "/home/peirong/Desktop/T1_2MRA-Brain_cropped.mha\n",
      "/home/peirong/Desktop/T2_2MRA-Brain_cropped.mha\n",
      "/home/peirong/Desktop/DWI0_2MRA-Brain_cropped.mha\n",
      "/home/peirong/Desktop/DWI1_2MRA-Brain_cropped.mha\n",
      "/home/peirong/Desktop/DWI2_2MRA-Brain_cropped.mha\n",
      "/home/peirong/Desktop/DWI3_2MRA-Brain_cropped.mha\n",
      "/home/peirong/Desktop/DWI4_2MRA-Brain_cropped.mha\n",
      "/home/peirong/Desktop/DWI5_2MRA-Brain_cropped.mha\n"
     ]
    },
    {
     "data": {
      "text/plain": [
       "'/home/peirong/Desktop/DWI5_2MRA-Brain_cropped.mha'"
      ]
     },
     "execution_count": 26,
     "metadata": {},
     "output_type": "execute_result"
    }
   ],
   "source": [
    "main_fld = '/home/peirong/Desktop'\n",
    "mask_path = os.path.join(main_fld, 'MRAMask-Brain.mha')\n",
    "mask_img = sitk.ReadImage(mask_path)\n",
    "cropped_mask_img, crop_ranges = cropping(mask_img)\n",
    "\n",
    "mask_path = '%s_cropped%s' % (mask_path[:-4], mask_path[-4:])\n",
    "sitk.WriteImage(cropped_mask_img, mask_path)\n",
    "\n",
    "def crop_n_save(img_path, crop_ranges, save_path = None):\n",
    "    cropped_img, _ = cropping(sitk.ReadImage(img_path), crop_range_lst = crop_ranges)\n",
    "    save_path = '%s_cropped%s' % (img_path[:-4], img_path[-4:]) if save_path is None else save_path\n",
    "    print(save_path)\n",
    "    sitk.WriteImage(cropped_img, save_path)\n",
    "    return save_path\n",
    "\n",
    "mra_iso_path = crop_n_save(os.path.join(main_fld, 'MRA-Iso.mha'), crop_ranges)\n",
    "mra_brain_path = crop_n_save(os.path.join(main_fld, 'MRA-Brain.mha'), crop_ranges)\n",
    "t1_iso_path = crop_n_save(os.path.join(main_fld, 'T1_2MRA-Iso.mha'), crop_ranges)\n",
    "t2_iso_path = crop_n_save(os.path.join(main_fld, 'T2_2MRA-Iso.mha'), crop_ranges)\n",
    "t1_brain_path = crop_n_save(os.path.join(main_fld, 'T1_2MRA-Brain.mha'), crop_ranges)\n",
    "t2_brain_path = crop_n_save(os.path.join(main_fld, 'T2_2MRA-Brain.mha'), crop_ranges)\n",
    "\n",
    "crop_n_save(os.path.join(main_fld, 'DWI0_2MRA-Brain.mha'), crop_ranges)\n",
    "crop_n_save(os.path.join(main_fld, 'DWI1_2MRA-Brain.mha'), crop_ranges)\n",
    "crop_n_save(os.path.join(main_fld, 'DWI2_2MRA-Brain.mha'), crop_ranges)\n",
    "crop_n_save(os.path.join(main_fld, 'DWI3_2MRA-Brain.mha'), crop_ranges)\n",
    "crop_n_save(os.path.join(main_fld, 'DWI4_2MRA-Brain.mha'), crop_ranges)\n",
    "crop_n_save(os.path.join(main_fld, 'DWI5_2MRA-Brain.mha'), crop_ranges)"
   ]
  },
  {
   "cell_type": "code",
   "execution_count": null,
   "metadata": {},
   "outputs": [],
   "source": []
  },
  {
   "cell_type": "code",
   "execution_count": 29,
   "metadata": {},
   "outputs": [
    {
     "data": {
      "text/plain": [
       "'reader = ReaderType.New(FileName = os.path.join(pre_fld, \"MRA-Brain.mha\"))\\nreader.Update()\\nim1Brain = reader.GetOutput()\\n\\nreader = ReaderType.New(FileName = os.path.join(pre_fld, \"MRT1-Iso.mha\"))\\nreader.Update()\\nim2iso = reader.GetOutput()\\nreader = ReaderType.New(FileName = os.path.join(pre_fld, \"MRT1-Brain.mha\"))\\nreader.Update()\\nim2Brain = reader.GetOutput()\\n\\nreader = ReaderType.New(FileName = os.path.join(pre_fld, \"MRT2-Iso.mha\"))\\nreader.Update()\\nim3iso = reader.GetOutput()\\nreader = ReaderType.New(FileName = os.path.join(pre_fld, \"MRT2-Brain.mha\"))\\nreader.Update()\\nim3Brain = reader.GetOutput()'"
      ]
     },
     "execution_count": 29,
     "metadata": {},
     "output_type": "execute_result"
    }
   ],
   "source": [
    "ImageType = itk.Image[itk.F, 3]\n",
    "ReaderType = itk.ImageFileReader[ImageType]\n",
    "ResampleType = ttk.ResampleImage[ImageType]\n",
    "\n",
    "def read_img(img_path):\n",
    "    reader = ReaderType.New(FileName = img_path)\n",
    "    reader.Update()\n",
    "    return reader.GetOutput()\n",
    "\n",
    "#NOTE: This assumed the data has been resampled into isotropic spacing, registered and brain-stripped #\n",
    "im_mra_iso = read_img(mra_iso_path)\n",
    "im_mra_brain = read_img(mra_brain_path)\n",
    "im_t1_iso  = read_img(t1_iso_path)\n",
    "im_t1_brain = read_img(t1_brain_path)\n",
    "im_t2_iso  = read_img(t2_iso_path)\n",
    "im_t2_brain = read_img(t2_brain_path)\n",
    "\n",
    "'''reader = ReaderType.New(FileName = os.path.join(pre_fld, \"MRA-Brain.mha\"))\n",
    "reader.Update()\n",
    "im1Brain = reader.GetOutput()\n",
    "\n",
    "reader = ReaderType.New(FileName = os.path.join(pre_fld, \"MRT1-Iso.mha\"))\n",
    "reader.Update()\n",
    "im2iso = reader.GetOutput()\n",
    "reader = ReaderType.New(FileName = os.path.join(pre_fld, \"MRT1-Brain.mha\"))\n",
    "reader.Update()\n",
    "im2Brain = reader.GetOutput()\n",
    "\n",
    "reader = ReaderType.New(FileName = os.path.join(pre_fld, \"MRT2-Iso.mha\"))\n",
    "reader.Update()\n",
    "im3iso = reader.GetOutput()\n",
    "reader = ReaderType.New(FileName = os.path.join(pre_fld, \"MRT2-Brain.mha\"))\n",
    "reader.Update()\n",
    "im3Brain = reader.GetOutput()'''"
   ]
  },
  {
   "cell_type": "code",
   "execution_count": 33,
   "metadata": {},
   "outputs": [],
   "source": [
    "#view(im_mra_iso)\n",
    "#view(im_t1_iso)\n",
    "#view(im_t1_brain)"
   ]
  },
  {
   "cell_type": "code",
   "execution_count": 35,
   "metadata": {},
   "outputs": [],
   "source": [
    "imMath = ttk.ImageMath[ImageType,ImageType].New()\n",
    "imMath.SetInput(im_mra_brain)\n",
    "imMath.Blur(1.0)\n",
    "imBlur = imMath.GetOutput()\n",
    "imBlurArray = itk.GetArrayViewFromImage(imBlur)\n",
    "\n",
    "numSeeds = 10\n",
    "seedCoverage = 20\n",
    "seedCoord = np.zeros([numSeeds,3])\n",
    "for i in range(numSeeds):\n",
    "    seedCoord[i] = np.unravel_index(np.argmax(imBlurArray, axis=None), imBlurArray.shape)\n",
    "    indx = [int(seedCoord[i][0]),int(seedCoord[i][1]),int(seedCoord[i][2])]\n",
    "    minX = max(indx[0]-seedCoverage,0)\n",
    "    maxX = max(indx[0]+seedCoverage,imBlurArray.shape[0])\n",
    "    minY = max(indx[1]-seedCoverage,0)\n",
    "    maxY = max(indx[1]+seedCoverage,imBlurArray.shape[1])\n",
    "    minZ = max(indx[2]-seedCoverage,0)\n",
    "    maxZ = max(indx[2]+seedCoverage,imBlurArray.shape[2])\n",
    "    imBlurArray[minX:maxX,minY:maxY,minZ:maxZ]=0\n",
    "    indx.reverse()\n",
    "    seedCoord[:][i] = im_mra_brain.TransformIndexToPhysicalPoint(indx)\n",
    "#print(seedCoord)"
   ]
  },
  {
   "cell_type": "code",
   "execution_count": 41,
   "metadata": {},
   "outputs": [
    {
     "name": "stdout",
     "output_type": "stream",
     "text": [
      "**** Processing seed 0 : [-65.0739212   -4.62519836  20.85701728]\n",
      "**** Processing seed 1 : [-53.0739212   16.37480164   5.85701728]\n",
      "**** Processing seed 2 : [-91.0739212    4.37480164  36.85701728]\n",
      "**** Processing seed 3 : [-78.0739212   16.37480164   5.85701728]\n",
      "**** Processing seed 4 : [-49.0739212   76.37480164   0.85701728]\n",
      "**** Processing seed 5 : [-92.0739212   65.37480164   0.85701728]\n",
      "**** Processing seed 6 : [-113.0739212    19.37480164   46.85701728]\n",
      "**** Processing seed 7 : [-56.0739212   97.37480164  65.85701728]\n",
      "**** Processing seed 8 : [-113.0739212    49.37480164   51.85701728]\n",
      "**** Processing seed 9 : [-71.0739212   87.37480164  37.85701728]\n"
     ]
    }
   ],
   "source": [
    "# Manually extract a few vessels to form an image-specific training set\n",
    "vSeg = ttk.SegmentTubes[ImageType].New()\n",
    "#vSeg.SetInput(im_mra_iso) # im_mra_iso: non-skull-stripped (Same result as input im_mra_brain)\n",
    "vSeg.SetInput(im_mra_brain)\n",
    "vSeg.SetVerbose(True)\n",
    "vSeg.SetMinRoundness(0.1)\n",
    "vSeg.SetMinCurvature(0.001)\n",
    "vSeg.SetRadiusInObjectSpace( 1 )\n",
    "for i in range(numSeeds):\n",
    "    print(\"**** Processing seed \" + str(i) + \" : \" + str(seedCoord[i]))\n",
    "    vSeg.ExtractTubeInObjectSpace( seedCoord[i], i )\n",
    "    \n",
    "tubeMaskImage = vSeg.GetTubeMaskImage()"
   ]
  },
  {
   "cell_type": "code",
   "execution_count": 42,
   "metadata": {},
   "outputs": [],
   "source": [
    "#view(tubeMaskImage)"
   ]
  },
  {
   "cell_type": "code",
   "execution_count": 43,
   "metadata": {},
   "outputs": [],
   "source": [
    "LabelMapType = itk.Image[itk.UC,3]\n",
    "\n",
    "trMask = ttk.ComputeTrainingMask[ImageType,LabelMapType].New()\n",
    "trMask.SetInput( tubeMaskImage )\n",
    "trMask.SetGap( 3 )\n",
    "#trMask.SetObjectWidth( 1 )\n",
    "trMask.SetNotObjectWidth( 1 )\n",
    "trMask.Update()\n",
    "fgMask = trMask.GetOutput()"
   ]
  },
  {
   "cell_type": "code",
   "execution_count": 45,
   "metadata": {},
   "outputs": [],
   "source": [
    "#view(fgMask)"
   ]
  },
  {
   "cell_type": "code",
   "execution_count": 52,
   "metadata": {},
   "outputs": [],
   "source": [
    "enhancer = ttk.EnhanceTubesUsingDiscriminantAnalysis[ImageType,LabelMapType].New()\n",
    "enhancer.SetInput( im_mra_iso ) # ? why use non-skull-stripped version ?\n",
    "enhancer.AddInput( im_t1_iso )\n",
    "enhancer.AddInput( im_t2_iso )\n",
    "enhancer.SetLabelMap( fgMask )\n",
    "enhancer.SetRidgeId( 255 )\n",
    "enhancer.SetBackgroundId( 127 ) #128\n",
    "enhancer.SetUnknownId( 0 )\n",
    "enhancer.SetTrainClassifier(True)\n",
    "enhancer.SetUseIntensityOnly(True)\n",
    "enhancer.SetScales([0.3333,1,2.5])\n",
    "enhancer.Update()\n",
    "enhancer.ClassifyImages()"
   ]
  },
  {
   "cell_type": "code",
   "execution_count": 55,
   "metadata": {},
   "outputs": [],
   "source": [
    "mra_vess = itk.SubtractImageFilter( Input1=enhancer.GetClassProbabilityImage(0), Input2=enhancer.GetClassProbabilityImage(1))\n",
    "itk.imwrite( mra_vess, os.path.join(main_fld, \"MRA-VesselEnhanced_ISO.mha\"), compression=True)\n",
    "\n",
    "brainMask = itk.imread( os.path.join(main_fld, \"MRAMask-Brain_cropped.mha\"), itk.F )\n",
    "MRABrainVess = itk.MultiplyImageFilter(Input1 = mra_vess, Input2=brainMask)\n",
    "itk.imwrite( MRABrainVess, os.path.join(main_fld, \"MRA-Brain_cropped-VesselEnhanced_ISO.mha\"), compression=True)"
   ]
  },
  {
   "cell_type": "code",
   "execution_count": 50,
   "metadata": {},
   "outputs": [],
   "source": [
    "#view(enhancer.GetOutput())\n",
    "view(enhancer.GetClassProbabilityImage(0))\n",
    "#imMath = ttk.ImageMath[ImageType,ImageType].New(Input = segmenter.GetClassProbabilityImage(0))\n",
    "#imMath.AddImages( segmenter.GetClassProbabilityImage(1), 1, -1 )\n",
    "#view(imMath.GetOutput())"
   ]
  },
  {
   "cell_type": "code",
   "execution_count": null,
   "metadata": {},
   "outputs": [],
   "source": []
  },
  {
   "cell_type": "code",
   "execution_count": null,
   "metadata": {},
   "outputs": [],
   "source": []
  },
  {
   "cell_type": "code",
   "execution_count": 56,
   "metadata": {},
   "outputs": [],
   "source": [
    "enhancer = ttk.EnhanceTubesUsingDiscriminantAnalysis[ImageType,LabelMapType].New()\n",
    "enhancer.SetInput( im_mra_brain )\n",
    "enhancer.AddInput( im_t1_brain )\n",
    "enhancer.AddInput( im_t2_brain )\n",
    "enhancer.SetLabelMap( fgMask )\n",
    "enhancer.SetRidgeId( 255 )\n",
    "enhancer.SetBackgroundId( 127 ) #128\n",
    "enhancer.SetUnknownId( 0 )\n",
    "enhancer.SetTrainClassifier(True)\n",
    "enhancer.SetUseIntensityOnly(True)\n",
    "enhancer.SetScales([0.3333,1,2.5])\n",
    "enhancer.Update()\n",
    "enhancer.ClassifyImages()"
   ]
  },
  {
   "cell_type": "code",
   "execution_count": 57,
   "metadata": {},
   "outputs": [],
   "source": [
    "mra_vess = itk.SubtractImageFilter( Input1=enhancer.GetClassProbabilityImage(0), Input2=enhancer.GetClassProbabilityImage(1))\n",
    "itk.imwrite( mra_vess, os.path.join(main_fld, \"MRA-VesselEnhanced_Brain.mha\"), compression=True)\n",
    "\n",
    "brainMask = itk.imread( os.path.join(main_fld, \"MRAMask-Brain_cropped.mha\"), itk.F )\n",
    "MRABrainVess = itk.MultiplyImageFilter(Input1 = mra_vess, Input2=brainMask)\n",
    "itk.imwrite( MRABrainVess, os.path.join(main_fld, \"MRA-Brain_cropped-VesselEnhanced_Brain.mha\"), compression=True)"
   ]
  },
  {
   "cell_type": "code",
   "execution_count": 51,
   "metadata": {},
   "outputs": [],
   "source": [
    "#view(enhancer.GetOutput())\n",
    "view(enhancer.GetClassProbabilityImage(0))\n",
    "#imMath = ttk.ImageMath[ImageType,ImageType].New(Input = segmenter.GetClassProbabilityImage(0))\n",
    "#imMath.AddImages( segmenter.GetClassProbabilityImage(1), 1, -1 )\n",
    "#view(imMath.GetOutput())"
   ]
  },
  {
   "cell_type": "code",
   "execution_count": null,
   "metadata": {},
   "outputs": [],
   "source": []
  },
  {
   "cell_type": "code",
   "execution_count": null,
   "metadata": {},
   "outputs": [],
   "source": []
  },
  {
   "cell_type": "code",
   "execution_count": 23,
   "metadata": {},
   "outputs": [],
   "source": [
    "#itk.imwrite( enhancer.GetClassProbabilityImage(0), os.path.join(cur_fld, \"MRA-VesselProb.mha\"), compression=True)\n",
    "#itk.imwrite( enhancer.GetClassProbabilityImage(1), os.path.join(cur_fld, \"MRA-NotVesselProb.mha\"), compression=True)"
   ]
  },
  {
   "cell_type": "code",
   "execution_count": 22,
   "metadata": {},
   "outputs": [],
   "source": [
    "\n",
    "im1vess = itk.SubtractImageFilter( Input1=enhancer.GetClassProbabilityImage(0), Input2=enhancer.GetClassProbabilityImage(1))\n",
    "itk.imwrite( im1vess, os.path.join(cur_fld, \"MRA-VesselEnhanced.mha\"), compression=True)\n",
    "\n",
    "brainMask = itk.imread( os.path.join(pre_fld, \"MRMask-Brain.mha\"), itk.F )\n",
    "im1BrainVess = itk.MultiplyImageFilter(Input1 = im1vess, Input2=brainMask)\n",
    "itk.imwrite( im1BrainVess, os.path.join(cur_fld, \"MRA-Brain-VesselEnhanced.mha\"), compression=True)"
   ]
  },
  {
   "cell_type": "code",
   "execution_count": null,
   "metadata": {},
   "outputs": [],
   "source": []
  }
 ],
 "metadata": {
  "kernelspec": {
   "display_name": "Python 3",
   "language": "python",
   "name": "python3"
  },
  "language_info": {
   "codemirror_mode": {
    "name": "ipython",
    "version": 3
   },
   "file_extension": ".py",
   "mimetype": "text/x-python",
   "name": "python",
   "nbconvert_exporter": "python",
   "pygments_lexer": "ipython3",
   "version": "3.7.3"
  }
 },
 "nbformat": 4,
 "nbformat_minor": 2
}
