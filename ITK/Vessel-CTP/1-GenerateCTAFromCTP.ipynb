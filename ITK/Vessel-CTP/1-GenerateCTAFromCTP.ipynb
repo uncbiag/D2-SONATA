{
 "cells": [
  {
   "cell_type": "code",
   "execution_count": 4,
   "metadata": {},
   "outputs": [],
   "source": [
    "import os \n",
    "import sys\n",
    "import glob\n",
    "import numpy as np\n",
    "import itk\n",
    "from itk import TubeTK as ttk\n",
    "from itkwidgets import view\n",
    "\n",
    "import SimpleITK as sitk\n",
    "\n",
    "\n",
    "def nda2img(nda, origin = None, spacing = None, direction = None, save_path = None, isVector = None):\n",
    "    if isVector is None:\n",
    "        isVector = len(nda.shape) > 3\n",
    "    img = sitk.GetImageFromArray(nda, isVector = isVector)\n",
    "    if origin:\n",
    "        img.SetOrigin(origin)\n",
    "    if spacing:\n",
    "        img.SetSpacing(spacing)\n",
    "    if direction:\n",
    "        img.SetDirection(direction)\n",
    "    if save_path:\n",
    "        sitk.WriteImage(img, save_path)\n",
    "    return save_path\n",
    "\n",
    "def img2nda(img_path, save_path = None):\n",
    "    img = sitk.ReadImage(img_path)\n",
    "    nda = sitk.GetArrayFromImage(img)\n",
    "    if save_path:\n",
    "        np.save(save_path, nda)\n",
    "    return nda, img.GetOrigin(), img.GetSpacing(), img.GetDirection()"
   ]
  },
  {
   "cell_type": "code",
   "execution_count": 8,
   "metadata": {},
   "outputs": [
    {
     "name": "stdout",
     "output_type": "stream",
     "text": [
      "(13, 188, 148, 53)\n",
      "4 15\n"
     ]
    },
    {
     "data": {
      "text/plain": [
       "'/home/peirong/Documents/Stroke/ISLES2018/ISLES2018_Training/TRAINING/case_90/SMIR.Brain.XX.O.CT_4DPWI.346172/CTC_maxmin.mha'"
      ]
     },
     "execution_count": 8,
     "metadata": {},
     "output_type": "execute_result"
    }
   ],
   "source": [
    "main_fld = '/home/peirong/Documents/Stroke/ISLES2018/ISLES2018_Training/TRAINING/case_90'\n",
    "ctc_path = os.path.join(main_fld, 'SMIR.Brain.XX.O.CT_4DPWI.346172/CTP_cropped.mha')\n",
    "\n",
    "ctc_nda, origin, spacing, direction = img2nda(ctc_path)\n",
    "print(ctc_nda.shape)\n",
    "\n",
    "avg = np.zeros(ctc_nda.shape[-1])\n",
    "for t in range(ctc_nda.shape[-1]):\n",
    "    avg[t] = (ctc_nda[..., t]).mean()\n",
    "t_max = np.argmax(avg)\n",
    "t_min = np.argmin(avg)\n",
    "print(t_min, t_max)\n",
    "ctc_min = ctc_nda[..., t_min]\n",
    "ctc_max = ctc_nda[..., t_max]\n",
    "ctc_diff = ctc_max - ctc_min\n",
    "\n",
    "nda2img(ctc_min, origin, spacing, direction, save_path = os.path.join(os.path.dirname(ctc_path), 'CTC_min.mha'))\n",
    "nda2img(ctc_max, origin, spacing, direction, save_path = os.path.join(os.path.dirname(ctc_path), 'CTC_max.mha'))\n",
    "nda2img(ctc_diff, origin, spacing, direction, save_path = os.path.join(os.path.dirname(ctc_path), 'CTC_maxmin.mha'))"
   ]
  },
  {
   "cell_type": "code",
   "execution_count": null,
   "metadata": {},
   "outputs": [],
   "source": []
  }
 ],
 "metadata": {
  "kernelspec": {
   "display_name": "Python 3",
   "language": "python",
   "name": "python3"
  },
  "language_info": {
   "codemirror_mode": {
    "name": "ipython",
    "version": 3
   },
   "file_extension": ".py",
   "mimetype": "text/x-python",
   "name": "python",
   "nbconvert_exporter": "python",
   "pygments_lexer": "ipython3",
   "version": "3.7.3"
  }
 },
 "nbformat": 4,
 "nbformat_minor": 2
}
