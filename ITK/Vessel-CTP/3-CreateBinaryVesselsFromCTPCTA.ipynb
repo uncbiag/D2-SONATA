{
 "cells": [
  {
   "cell_type": "markdown",
   "metadata": {},
   "source": [
    "This notebook is intended to demonstrate how select registration, segmentation, and image mathematical methods of ITKTubeTK can be combined to perform multi-channel brain extraction (aka. skull stripping for patient data containing multiple MRI sequences).\n",
    "\n",
    "There are many other (probably more effective) brain extraction methods available as open-source software such as BET and BET2 in the FSL package (albeit such methods are only for single channel data).   If you need to perform brain extraction for a large collection of scans that do not contain major pathologies, please use one of those packages.   This notebook is meant to show off the capabilities of specific ITKTubeTK methods, not to demonstration how to \"solve\" brain extraction."
   ]
  },
  {
   "cell_type": "code",
   "execution_count": 2,
   "metadata": {},
   "outputs": [],
   "source": [
    "import itk\n",
    "from itk import TubeTK as ttk\n",
    "\n",
    "from itkwidgets import view\n",
    "\n",
    "import os\n",
    "import numpy as np"
   ]
  },
  {
   "cell_type": "code",
   "execution_count": 4,
   "metadata": {},
   "outputs": [],
   "source": [
    "main_fld = '/home/peirong/Documents/Stroke/ISLES2018/ISLES2018_Training/TRAINING/case_90'\n",
    "ctc_path = os.path.join(main_fld, 'SMIR.Brain.XX.O.CT_4DPWI.346172/CTP_cropped.mha')\n",
    "ctc_max_path = os.path.join(main_fld, 'SMIR.Brain.XX.O.CT_4DPWI.346172/CTC_max.mha')\n",
    "ctc_min_path = os.path.join(main_fld, 'SMIR.Brain.XX.O.CT_4DPWI.346172/CTC_min.mha')\n",
    "ctc_diff_path = os.path.join(main_fld, 'SMIR.Brain.XX.O.CT_4DPWI.346172/CTC_diff.mha')\n",
    "mask_path = os.path.join(main_fld, 'SMIR.Brain.XX.O.CT_4DPWI.346172/Mask_cropped.mha')"
   ]
  },
  {
   "cell_type": "code",
   "execution_count": null,
   "metadata": {},
   "outputs": [],
   "source": []
  },
  {
   "cell_type": "code",
   "execution_count": null,
   "metadata": {},
   "outputs": [],
   "source": []
  },
  {
   "cell_type": "code",
   "execution_count": 58,
   "metadata": {},
   "outputs": [],
   "source": [
    "ImageType = itk.Image[itk.F, 3]\n",
    "\n",
    "ReaderType = itk.ImageFileReader[ImageType]\n",
    "\n",
    "InputBaseDir = \"G:/My Drive/Projects/Proj_UNC_StrokeCollaterals/Experiments/UNC/CTP/CTAT-001\"\n",
    "\n",
    "CTPMaxFilename = InputBaseDir + \"-MinMax/max.nrrd\"\n",
    "CTPMinFilename = InputBaseDir + \"-MinMax/min.nrrd\"\n",
    "\n",
    "filename = InputBaseName + \".nrrd\"\n",
    "reader1 = ReaderType.New(FileName=filename)\n",
    "reader1.Update()\n",
    "im1 = reader1.GetOutput()\n",
    "\n",
    "resamp = ttk.ResampleImage[ImageType].New(Input = im1)\n",
    "resamp.SetMakeHighResIso(True)\n",
    "resamp.Update()\n",
    "im1iso = resamp.GetOutput()\n",
    "\n",
    "filename = InputBaseName + \"-Iso.nrrd\"\n",
    "itk.imwrite(im1iso, filename)"
   ]
  },
  {
   "cell_type": "code",
   "execution_count": 59,
   "metadata": {},
   "outputs": [],
   "source": [
    "N = 8\n",
    "readerList = [\"003\", \"010\", \"026\", \"034\", \"045\", \"056\", \"063\", \"071\"]\n",
    "imBase = []\n",
    "imBaseB = []\n",
    "for i in range(0,N):\n",
    "    name = \"TubeTK-Data/Normal\"+readerList[i]+\"-FLASH.mha\"\n",
    "    nameB = \"TubeTK-Data/Normal\"+readerList[i]+\"-FLASH-Brain.mha\"\n",
    "    reader = ReaderType.New(FileName=name)\n",
    "    reader.Update()\n",
    "    imMathNorm = ttk.ImageMath.New(Input=reader.GetOutput())\n",
    "    imMathNorm.NormalizeMeanStdDev()\n",
    "    imBaseTmp = imMathNorm.GetOutput()\n",
    "    reader = ReaderType.New(FileName=nameB)\n",
    "    reader.Update()\n",
    "    imBaseBTmp = reader.GetOutput()\n",
    "    imBase.append(imBaseTmp)\n",
    "    imBaseB.append(imBaseBTmp)"
   ]
  },
  {
   "cell_type": "code",
   "execution_count": 60,
   "metadata": {
    "scrolled": true
   },
   "outputs": [
    {
     "data": {
      "application/vnd.jupyter.widget-view+json": {
       "model_id": "50c02efaf06f4371aa84610b61307ac8",
       "version_major": 2,
       "version_minor": 0
      },
      "text/plain": [
       "Viewer(geometries=[], gradient_opacity=0.22, point_sets=[], rendered_image=<itk.itkImagePython.itkImageF3; pro…"
      ]
     },
     "metadata": {},
     "output_type": "display_data"
    }
   ],
   "source": [
    "view(im1iso)"
   ]
  },
  {
   "cell_type": "code",
   "execution_count": 61,
   "metadata": {
    "scrolled": true
   },
   "outputs": [
    {
     "data": {
      "application/vnd.jupyter.widget-view+json": {
       "model_id": "72eb9b87d4934864837c4faa29001068",
       "version_major": 2,
       "version_minor": 0
      },
      "text/plain": [
       "Viewer(geometries=[], gradient_opacity=0.22, point_sets=[], rendered_image=<itk.itkImagePython.itkImageF3; pro…"
      ]
     },
     "metadata": {},
     "output_type": "display_data"
    }
   ],
   "source": [
    "thresh = ttk.ImageMath.New(Input=im1iso)\n",
    "thresh.ReplaceValuesOutsideMaskRange(im1iso,-150,600,-200) #-150,100,-200 for min\n",
    "thresh.Threshold(-199,600,1,0)\n",
    "#thresh.NormalizeMeanStdDev()\n",
    "im1isoT = thresh.GetOutput()\n",
    "im1iso = im1isoT\n",
    "view(im1iso)\n",
    "#itk.imwrite(im1iso,\"im1iso.mha\")"
   ]
  },
  {
   "cell_type": "code",
   "execution_count": 62,
   "metadata": {},
   "outputs": [],
   "source": [
    "maskMath = ttk.ImageMath.New(Input=im1iso)\n",
    "#maskMath.Threshold(-2,2,1,0)\n",
    "maskMath.Dilate(20,1,0)\n",
    "maskMathD = maskMath.GetOutput()\n",
    "maskMath.SetInput(im1iso)\n",
    "maskMath.Erode(20,1,0)\n",
    "maskMath.AddImages(maskMathD,-1,1)\n",
    "mask = maskMath.GetOutput()\n",
    "#itk.imwrite(mask, \"mask.mha\")\n",
    "maskObject = itk.ImageSpatialObject[3,itk.F].New(Image=mask)"
   ]
  },
  {
   "cell_type": "code",
   "execution_count": 63,
   "metadata": {},
   "outputs": [],
   "source": [
    "maskMath.SetInput(im1iso)\n",
    "maskMath.Blur(3)\n",
    "im1isoBlur = maskMath.GetOutput()\n",
    "#itk.imwrite(im1isoBlur,\"im1isoBlur.mha\")"
   ]
  },
  {
   "cell_type": "code",
   "execution_count": 64,
   "metadata": {},
   "outputs": [],
   "source": [
    "RegisterImagesType = ttk.RegisterImages[ImageType]\n",
    "regB = []\n",
    "regBB = []\n",
    "for i in range(0,N):\n",
    "    maskMath.SetInput(imBase[i])\n",
    "    maskMath.Blur(3)\n",
    "    movingIm = maskMath.GetOutput()\n",
    "    #itk.imwrite(movingIm,\"movingIm.mha\")\n",
    "    regBTo1 = RegisterImagesType.New(FixedImage=im1isoBlur, MovingImage=movingIm)\n",
    "    regBTo1.SetReportProgress(True)\n",
    "    regBTo1.SetExpectedOffsetMagnitude(40)\n",
    "    regBTo1.SetExpectedRotationMagnitude(0.01)\n",
    "    regBTo1.SetExpectedScaleMagnitude(0.1)\n",
    "    regBTo1.SetRigidMaxIterations(500)\n",
    "    regBTo1.SetAffineMaxIterations(500)\n",
    "    regBTo1.SetRigidSamplingRatio(0.1)\n",
    "    regBTo1.SetAffineSamplingRatio(0.1)\n",
    "    regBTo1.SetInitialMethodEnum(\"INIT_WITH_IMAGE_CENTERS\")\n",
    "    regBTo1.SetFixedImageMaskObject(maskObject)\n",
    "    regBTo1.SetUseFixedImageMaskObject(True)\n",
    "    regBTo1.SetRegistration(\"PIPELINE_AFFINE\")\n",
    "    regBTo1.SetMetric(\"MATTES_MI_METRIC\")\n",
    "    #regBTo1.SetMetric(\"NORMALIZED_CORRELATION_METRIC\")\n",
    "    regBTo1.Update()\n",
    "    img = regBTo1.ResampleImage()\n",
    "    regB.append( img )\n",
    "    img = regBTo1.ResampleImage(\"LINEAR\", imBaseB[i])\n",
    "    regBB.append( img )"
   ]
  },
  {
   "cell_type": "code",
   "execution_count": 65,
   "metadata": {},
   "outputs": [
    {
     "data": {
      "application/vnd.jupyter.widget-view+json": {
       "model_id": "1a2c9135ed584f8dac6282358a5b3a28",
       "version_major": 2,
       "version_minor": 0
      },
      "text/plain": [
       "Viewer(geometries=[], gradient_opacity=0.22, point_sets=[], rendered_image=<itk.itkImagePython.itkImageF3; pro…"
      ]
     },
     "metadata": {},
     "output_type": "display_data"
    }
   ],
   "source": [
    "regBBT = []\n",
    "for i in range(0,N):\n",
    "    imMath = ttk.ImageMath[ImageType,ImageType].New( Input=regBB[i] )\n",
    "    imMath.Threshold(0,1,0,1)\n",
    "    img = imMath.GetOutput()\n",
    "    if i==0:\n",
    "        imMathSum = ttk.ImageMath[ImageType,ImageType].New( img )\n",
    "        imMathSum.AddImages( img, 1.0/N, 0 )\n",
    "        sumBBT = imMathSum.GetOutput()\n",
    "    else:\n",
    "        imMathSum = ttk.ImageMath[ImageType,ImageType].New( sumBBT )\n",
    "        imMathSum.AddImages( img, 1, 1.0/N )\n",
    "        sumBBT = imMathSum.GetOutput()\n",
    "        \n",
    "view(sumBBT)"
   ]
  },
  {
   "cell_type": "code",
   "execution_count": 66,
   "metadata": {},
   "outputs": [],
   "source": [
    "insideMath = ttk.ImageMath[ImageType,ImageType].New( Input = sumBBT )\n",
    "insideMath.Threshold(0,0.9,0,1)\n",
    "insideMath.Dilate(5,1,0)\n",
    "insideMath.Erode(25,1,0)\n",
    "brainInside = insideMath.GetOutput()\n",
    "\n",
    "outsideMath = ttk.ImageMath[ImageType,ImageType].New( Input = sumBBT )\n",
    "outsideMath.Threshold(0,0,1,0)\n",
    "outsideMath.Erode(1,1,0)\n",
    "brainOutsideAll = outsideMath.GetOutput()\n",
    "outsideMath.Erode(20,1,0)\n",
    "outsideMath.AddImages(brainOutsideAll, -1, 1)\n",
    "brainOutside = outsideMath.GetOutput()\n",
    "\n",
    "outsideMath.AddImages(brainInside,1,2)\n",
    "brainCombinedMask = outsideMath.GetOutputUChar()\n",
    "\n",
    "outsideMath.AddImages(im1iso, 10, 1)\n",
    "brainCombinedMaskView = outsideMath.GetOutput()"
   ]
  },
  {
   "cell_type": "code",
   "execution_count": 67,
   "metadata": {},
   "outputs": [
    {
     "data": {
      "application/vnd.jupyter.widget-view+json": {
       "model_id": "b9b2f4e8ba5a4213b3c1b9d09640bb6e",
       "version_major": 2,
       "version_minor": 0
      },
      "text/plain": [
       "Viewer(geometries=[], gradient_opacity=0.22, point_sets=[], rendered_image=<itk.itkImagePython.itkImageF3; pro…"
      ]
     },
     "metadata": {},
     "output_type": "display_data"
    }
   ],
   "source": [
    "view(brainCombinedMaskView)"
   ]
  },
  {
   "cell_type": "code",
   "execution_count": 75,
   "metadata": {},
   "outputs": [],
   "source": [
    "LabelMapType = itk.Image[itk.UC,3]\n",
    "\n",
    "segmenter = ttk.SegmentConnectedComponentsUsingParzenPDFs[ImageType,LabelMapType].New()\n",
    "segmenter.SetFeatureImage( im1iso )\n",
    "segmenter.SetInputLabelMap( brainCombinedMask )\n",
    "segmenter.SetObjectId( 2 )\n",
    "segmenter.AddObjectId( 1 )\n",
    "segmenter.SetVoidId( 0 )\n",
    "segmenter.SetErodeDilateRadius( 10 )\n",
    "segmenter.SetHoleFillIterations( 40 )\n",
    "segmenter.Update()\n",
    "segmenter.ClassifyImages()\n",
    "brainCombinedMaskClassified = segmenter.GetOutputLabelMap()\n"
   ]
  },
  {
   "cell_type": "code",
   "execution_count": 76,
   "metadata": {
    "scrolled": true
   },
   "outputs": [
    {
     "data": {
      "application/vnd.jupyter.widget-view+json": {
       "model_id": "88012386d2914100b2a7316752da9bd9",
       "version_major": 2,
       "version_minor": 0
      },
      "text/plain": [
       "Viewer(geometries=[], gradient_opacity=0.22, point_sets=[], rendered_image=<itk.itkImagePython.itkImageUC3; pr…"
      ]
     },
     "metadata": {},
     "output_type": "display_data"
    }
   ],
   "source": [
    "view(brainCombinedMaskClassified)"
   ]
  },
  {
   "cell_type": "code",
   "execution_count": 70,
   "metadata": {},
   "outputs": [],
   "source": [
    "cast = itk.CastImageFilter[LabelMapType, ImageType].New()\n",
    "cast.SetInput(brainCombinedMaskClassified)\n",
    "cast.Update()\n",
    "brainMaskF = cast.GetOutput()\n",
    "\n",
    "brainMath = ttk.ImageMath[ImageType,ImageType].New(Input = brainMaskF)\n",
    "brainMath.Threshold(2,2,1,0)\n",
    "#brainMath.Dilate(1,1,0)\n",
    "brainMaskD = brainMath.GetOutput()\n",
    "brainMath.SetInput( im1iso )\n",
    "brainMath.ReplaceValuesOutsideMaskRange( brainMaskD, 1, 1, 0)\n",
    "brain = brainMath.GetOutput()"
   ]
  },
  {
   "cell_type": "code",
   "execution_count": 74,
   "metadata": {
    "scrolled": false
   },
   "outputs": [
    {
     "data": {
      "application/vnd.jupyter.widget-view+json": {
       "model_id": "a8e8c16d2a0c413d9f62ecec092430af",
       "version_major": 2,
       "version_minor": 0
      },
      "text/plain": [
       "Viewer(geometries=[], gradient_opacity=0.22, point_sets=[], rendered_image=<itk.itkImagePython.itkImageF3; pro…"
      ]
     },
     "metadata": {},
     "output_type": "display_data"
    }
   ],
   "source": [
    "view(brain)"
   ]
  },
  {
   "cell_type": "code",
   "execution_count": 77,
   "metadata": {},
   "outputs": [],
   "source": [
    "writer = itk.ImageFileWriter[ImageType].New(Input = brain)\n",
    "filename = InputBaseName + \"-Brain.nrrd\"\n",
    "writer.SetFileName(filename)\n",
    "writer.Update()"
   ]
  },
  {
   "cell_type": "code",
   "execution_count": null,
   "metadata": {},
   "outputs": [],
   "source": []
  }
 ],
 "metadata": {
  "kernelspec": {
   "display_name": "Python 3",
   "language": "python",
   "name": "python3"
  },
  "language_info": {
   "codemirror_mode": {
    "name": "ipython",
    "version": 3
   },
   "file_extension": ".py",
   "mimetype": "text/x-python",
   "name": "python",
   "nbconvert_exporter": "python",
   "pygments_lexer": "ipython3",
   "version": "3.7.3"
  }
 },
 "nbformat": 4,
 "nbformat_minor": 2
}
